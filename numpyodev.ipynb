{
 "cells": [
  {
   "cell_type": "markdown",
   "id": "intro",
   "metadata": {},
   "source": [
    "# NumPy Fonksiyonları ile Örnekler\n",
    "\n",
    "Bu notebook, NumPy kütüphanesinin 10 önemli fonksiyonunu açıklamaktadır. Aşağıda sırasıyla `np.array`, `np.arange`, `np.linspace`, `np.reshape`, `np.zeros`, `np.ones`, `np.eye`, `np.sum`, `np.mean` ve `np.dot` fonksiyonlarının ne işe yaradıkları ve örnek kullanımları yer almaktadır."
   ]
  },
  {
   "cell_type": "code",
   "execution_count": 1,
   "id": "import",
   "metadata": {},
   "outputs": [],
   "source": [
    "import numpy as np"
   ]
  },
  {
   "cell_type": "markdown",
   "id": "array",
   "metadata": {},
   "source": [
    "## 1. np.array\n",
    "\n",
    "`np.array` fonksiyonu, verilen liste veya benzeri veri yapılarından NumPy dizisi (array) oluşturmak için kullanılır."
   ]
  },
  {
   "cell_type": "code",
   "execution_count": 4,
   "id": "array_example",
   "metadata": {},
   "outputs": [
    {
     "name": "stdout",
     "output_type": "stream",
     "text": [
      "np.array örneği: [1 2 3 4 5]\n"
     ]
    }
   ],
   "source": [
    "# np.array örneği\n",
    "arr = np.array([1, 2, 3, 4, 5])\n",
    "print('np.array örneği:', arr)"
   ]
  },
  {
   "cell_type": "markdown",
   "id": "arange",
   "metadata": {},
   "source": [
    "## 2. np.arange\n",
    "\n",
    "`np.arange` fonksiyonu, belirli bir aralıkta eşit aralıklarla sayıların bulunduğu bir NumPy dizisi oluşturur. Python'un yerleşik `range` fonksiyonuna benzer ancak dizi döndürür."
   ]
  },
  {
   "cell_type": "code",
   "execution_count": 7,
   "id": "arange_example",
   "metadata": {},
   "outputs": [
    {
     "name": "stdout",
     "output_type": "stream",
     "text": [
      "np.arange örneği: [0 2 4 6 8]\n"
     ]
    }
   ],
   "source": [
    "# np.arange örneği\n",
    "arr = np.arange(0, 10, 2)  # 0'dan 10'a kadar 2'şer artarak\n",
    "print('np.arange örneği:', arr)"
   ]
  },
  {
   "cell_type": "markdown",
   "id": "linspace",
   "metadata": {},
   "source": [
    "## 3. np.linspace\n",
    "\n",
    "`np.linspace` fonksiyonu, başlangıç ve bitiş değeri arasında, belirli sayıda eşit aralıklı sayı üretir."
   ]
  },
  {
   "cell_type": "code",
   "execution_count": 10,
   "id": "linspace_example",
   "metadata": {},
   "outputs": [
    {
     "name": "stdout",
     "output_type": "stream",
     "text": [
      "np.linspace örneği: [0.   0.25 0.5  0.75 1.  ]\n"
     ]
    }
   ],
   "source": [
    "# np.linspace örneği\n",
    "arr = np.linspace(0, 1, 5)  # 0 ile 1 arasında 5 eşit parçaya böler\n",
    "print('np.linspace örneği:', arr)"
   ]
  },
  {
   "cell_type": "markdown",
   "id": "reshape",
   "metadata": {},
   "source": [
    "## 4. np.reshape\n",
    "\n",
    "`np.reshape` fonksiyonu, mevcut bir dizinin boyutlarını yeniden düzenlemek için kullanılır. Bu sayede diziyi istenilen şekle sokabilirsiniz."
   ]
  },
  {
   "cell_type": "code",
   "execution_count": 13,
   "id": "reshape_example",
   "metadata": {},
   "outputs": [
    {
     "name": "stdout",
     "output_type": "stream",
     "text": [
      "np.reshape örneği:\n",
      " [[0 1 2]\n",
      " [3 4 5]]\n"
     ]
    }
   ],
   "source": [
    "# np.reshape örneği\n",
    "arr = np.arange(6)  # 0'dan 5'e kadar sayı içeren dizi\n",
    "reshaped_arr = arr.reshape((2, 3))  # 2 satır, 3 sütunluk matris\n",
    "print('np.reshape örneği:\\n', reshaped_arr)"
   ]
  },
  {
   "cell_type": "markdown",
   "id": "zeros",
   "metadata": {},
   "source": [
    "## 5. np.zeros\n",
    "\n",
    "`np.zeros` fonksiyonu, belirli boyutlarda tüm elemanları 0 olan bir dizi oluşturur."
   ]
  },
  {
   "cell_type": "code",
   "execution_count": 16,
   "id": "zeros_example",
   "metadata": {},
   "outputs": [
    {
     "name": "stdout",
     "output_type": "stream",
     "text": [
      "np.zeros örneği:\n",
      " [[0. 0. 0.]\n",
      " [0. 0. 0.]\n",
      " [0. 0. 0.]]\n"
     ]
    }
   ],
   "source": [
    "# np.zeros örneği\n",
    "zeros_arr = np.zeros((3, 3))  # 3x3 boyutunda sıfır matris\n",
    "print('np.zeros örneği:\\n', zeros_arr)"
   ]
  },
  {
   "cell_type": "markdown",
   "id": "ones",
   "metadata": {},
   "source": [
    "## 6. np.ones\n",
    "\n",
    "`np.ones` fonksiyonu, belirli boyutlarda tüm elemanları 1 olan bir dizi oluşturur."
   ]
  },
  {
   "cell_type": "code",
   "execution_count": 19,
   "id": "ones_example",
   "metadata": {},
   "outputs": [
    {
     "name": "stdout",
     "output_type": "stream",
     "text": [
      "np.ones örneği:\n",
      " [[1. 1. 1. 1.]\n",
      " [1. 1. 1. 1.]]\n"
     ]
    }
   ],
   "source": [
    "# np.ones örneği\n",
    "ones_arr = np.ones((2, 4))  # 2x4 boyutunda 1'lerden oluşan matris\n",
    "print('np.ones örneği:\\n', ones_arr)"
   ]
  },
  {
   "cell_type": "markdown",
   "id": "eye",
   "metadata": {},
   "source": [
    "## 7. np.eye\n",
    "\n",
    "`np.eye` fonksiyonu, kare matris şeklinde birim (identity) matris oluşturur. Birim matriste köşegen elemanlar 1, diğerleri 0’dır."
   ]
  },
  {
   "cell_type": "code",
   "execution_count": 22,
   "id": "eye_example",
   "metadata": {},
   "outputs": [
    {
     "name": "stdout",
     "output_type": "stream",
     "text": [
      "np.eye örneği:\n",
      " [[1. 0. 0. 0.]\n",
      " [0. 1. 0. 0.]\n",
      " [0. 0. 1. 0.]\n",
      " [0. 0. 0. 1.]]\n"
     ]
    }
   ],
   "source": [
    "# np.eye örneği\n",
    "identity = np.eye(4)  # 4x4 birim matris\n",
    "print('np.eye örneği:\\n', identity)"
   ]
  },
  {
   "cell_type": "markdown",
   "id": "sum",
   "metadata": {},
   "source": [
    "## 8. np.sum\n",
    "\n",
    "`np.sum` fonksiyonu, bir dizinin tüm elemanlarının toplamını veya belirli bir eksen boyunca toplamını hesaplar."
   ]
  },
  {
   "cell_type": "code",
   "execution_count": 25,
   "id": "sum_example",
   "metadata": {},
   "outputs": [
    {
     "name": "stdout",
     "output_type": "stream",
     "text": [
      "np.sum örneği, tüm elemanların toplamı: 21\n"
     ]
    }
   ],
   "source": [
    "# np.sum örneği\n",
    "arr = np.array([[1, 2, 3], [4, 5, 6]])\n",
    "total = np.sum(arr)\n",
    "print('np.sum örneği, tüm elemanların toplamı:', total)"
   ]
  },
  {
   "cell_type": "markdown",
   "id": "mean",
   "metadata": {},
   "source": [
    "## 9. np.mean\n",
    "\n",
    "`np.mean` fonksiyonu, bir dizinin ortalamasını hesaplamak için kullanılır."
   ]
  },
  {
   "cell_type": "code",
   "execution_count": 28,
   "id": "mean_example",
   "metadata": {},
   "outputs": [
    {
     "name": "stdout",
     "output_type": "stream",
     "text": [
      "np.mean örneği, ortalama değer: 30.0\n"
     ]
    }
   ],
   "source": [
    "# np.mean örneği\n",
    "arr = np.array([10, 20, 30, 40, 50])\n",
    "mean_val = np.mean(arr)\n",
    "print('np.mean örneği, ortalama değer:', mean_val)"
   ]
  },
  {
   "cell_type": "markdown",
   "id": "dot",
   "metadata": {},
   "source": [
    "## 10. np.dot\n",
    "\n",
    "`np.dot` fonksiyonu, iki dizinin noktasal (dot) çarpımını hesaplar. Bu fonksiyon, vektörlerin skaler çarpımını veya matris çarpımını yapmak için kullanılır."
   ]
  },
  {
   "cell_type": "code",
   "execution_count": 31,
   "id": "dot_example",
   "metadata": {},
   "outputs": [
    {
     "name": "stdout",
     "output_type": "stream",
     "text": [
      "np.dot örneği, noktasal çarpım: 32\n"
     ]
    }
   ],
   "source": [
    "# np.dot örneği\n",
    "a = np.array([1, 2, 3])\n",
    "b = np.array([4, 5, 6])\n",
    "dot_product = np.dot(a, b)\n",
    "print('np.dot örneği, noktasal çarpım:', dot_product)"
   ]
  },
  {
   "cell_type": "code",
   "execution_count": null,
   "id": "f9fd93c1-b3b7-4cc8-83d9-f1a645709673",
   "metadata": {},
   "outputs": [],
   "source": []
  }
 ],
 "metadata": {
  "kernelspec": {
   "display_name": "Python [conda env:base] *",
   "language": "python",
   "name": "conda-base-py"
  },
  "language_info": {
   "codemirror_mode": {
    "name": "ipython",
    "version": 3
   },
   "file_extension": ".py",
   "mimetype": "text/x-python",
   "name": "python",
   "nbconvert_exporter": "python",
   "pygments_lexer": "ipython3",
   "version": "3.12.7"
  }
 },
 "nbformat": 4,
 "nbformat_minor": 5
}
